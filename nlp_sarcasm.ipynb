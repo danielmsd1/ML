{
  "nbformat": 4,
  "nbformat_minor": 0,
  "metadata": {
    "colab": {
      "name": "nlp_sarcasm.ipynb",
      "provenance": [],
      "mount_file_id": "1eGONopgjebeVJk0G9EvWSfJVU4SKXitd",
      "authorship_tag": "ABX9TyOnAq5oW+cQDOnVvhB53p8M",
      "include_colab_link": true
    },
    "kernelspec": {
      "name": "python3",
      "display_name": "Python 3"
    },
    "language_info": {
      "name": "python"
    }
  },
  "cells": [
    {
      "cell_type": "markdown",
      "metadata": {
        "id": "view-in-github",
        "colab_type": "text"
      },
      "source": [
        "<a href=\"https://colab.research.google.com/github/danielmsd1/ML/blob/main/nlp_sarcasm.ipynb\" target=\"_parent\"><img src=\"https://colab.research.google.com/assets/colab-badge.svg\" alt=\"Open In Colab\"/></a>"
      ]
    },
    {
      "cell_type": "markdown",
      "metadata": {
        "id": "Xeju7nsRf7q4"
      },
      "source": [
        "# Group 2\n",
        "Kea Chebet,\n",
        "Daniel Simiyu and\n",
        "Robert Korir\n",
        "\n",
        "We used the sarcasm detection dataset here: https://drive.google.com/drive/folders/1xbwqaeFX3L6SMpL2kt01RXVzP-cwavCx?usp=sharing"
      ]
    },
    {
      "cell_type": "markdown",
      "metadata": {
        "id": "v9-kAlUKglfN"
      },
      "source": [
        "#Using NLP to identify Sarcastic headlines"
      ]
    },
    {
      "cell_type": "markdown",
      "metadata": {
        "id": "xuvdaaJliO2a"
      },
      "source": [
        "This is a binary classification, since a headline can either be sarcastic or not."
      ]
    },
    {
      "cell_type": "code",
      "metadata": {
        "id": "pk9zer4-R5MB"
      },
      "source": [
        "import tensorflow as tf\n",
        "import pandas as pd\n",
        "import numpy as np\n",
        "import matplotlib.pyplot as plt\n",
        "from tensorflow.keras import models\n",
        "from tensorflow.keras.layers import Embedding,GlobalAveragePooling1D,Dense\n",
        "from tensorflow.keras.preprocessing.sequence import pad_sequences\n",
        "from tensorflow.keras.preprocessing.text import Tokenizer\n",
        "from tensorflow.keras.callbacks import EarlyStopping,ModelCheckpoint\n",
        "from sklearn.preprocessing import LabelEncoder\n",
        "from sklearn.model_selection import train_test_split\n",
        "from sklearn.metrics import classification_report"
      ],
      "execution_count": 74,
      "outputs": []
    },
    {
      "cell_type": "markdown",
      "metadata": {
        "id": "BP_E0yWliKU5"
      },
      "source": [
        "Importing the dataset."
      ]
    },
    {
      "cell_type": "code",
      "metadata": {
        "colab": {
          "base_uri": "https://localhost:8080/",
          "height": 358
        },
        "id": "QYxJpLySNFC9",
        "outputId": "2318da4e-7620-48df-a8bf-d0978c40ee2a"
      },
      "source": [
        "dataset = pd.read_json('/content/drive/MyDrive/datasets/nlp_sarcasm/Sarcasm_Headlines_Dataset_v2.json',lines=True)\n",
        "dataset.head(10)"
      ],
      "execution_count": 75,
      "outputs": [
        {
          "output_type": "execute_result",
          "data": {
            "text/html": [
              "<div>\n",
              "<style scoped>\n",
              "    .dataframe tbody tr th:only-of-type {\n",
              "        vertical-align: middle;\n",
              "    }\n",
              "\n",
              "    .dataframe tbody tr th {\n",
              "        vertical-align: top;\n",
              "    }\n",
              "\n",
              "    .dataframe thead th {\n",
              "        text-align: right;\n",
              "    }\n",
              "</style>\n",
              "<table border=\"1\" class=\"dataframe\">\n",
              "  <thead>\n",
              "    <tr style=\"text-align: right;\">\n",
              "      <th></th>\n",
              "      <th>is_sarcastic</th>\n",
              "      <th>headline</th>\n",
              "      <th>article_link</th>\n",
              "    </tr>\n",
              "  </thead>\n",
              "  <tbody>\n",
              "    <tr>\n",
              "      <th>0</th>\n",
              "      <td>1</td>\n",
              "      <td>thirtysomething scientists unveil doomsday clo...</td>\n",
              "      <td>https://www.theonion.com/thirtysomething-scien...</td>\n",
              "    </tr>\n",
              "    <tr>\n",
              "      <th>1</th>\n",
              "      <td>0</td>\n",
              "      <td>dem rep. totally nails why congress is falling...</td>\n",
              "      <td>https://www.huffingtonpost.com/entry/donna-edw...</td>\n",
              "    </tr>\n",
              "    <tr>\n",
              "      <th>2</th>\n",
              "      <td>0</td>\n",
              "      <td>eat your veggies: 9 deliciously different recipes</td>\n",
              "      <td>https://www.huffingtonpost.com/entry/eat-your-...</td>\n",
              "    </tr>\n",
              "    <tr>\n",
              "      <th>3</th>\n",
              "      <td>1</td>\n",
              "      <td>inclement weather prevents liar from getting t...</td>\n",
              "      <td>https://local.theonion.com/inclement-weather-p...</td>\n",
              "    </tr>\n",
              "    <tr>\n",
              "      <th>4</th>\n",
              "      <td>1</td>\n",
              "      <td>mother comes pretty close to using word 'strea...</td>\n",
              "      <td>https://www.theonion.com/mother-comes-pretty-c...</td>\n",
              "    </tr>\n",
              "    <tr>\n",
              "      <th>5</th>\n",
              "      <td>0</td>\n",
              "      <td>my white inheritance</td>\n",
              "      <td>https://www.huffingtonpost.com/entry/my-white-...</td>\n",
              "    </tr>\n",
              "    <tr>\n",
              "      <th>6</th>\n",
              "      <td>0</td>\n",
              "      <td>5 ways to file your taxes with less stress</td>\n",
              "      <td>https://www.huffingtonpost.com/entry/5-ways-to...</td>\n",
              "    </tr>\n",
              "    <tr>\n",
              "      <th>7</th>\n",
              "      <td>1</td>\n",
              "      <td>richard branson's global-warming donation near...</td>\n",
              "      <td>https://www.theonion.com/richard-bransons-glob...</td>\n",
              "    </tr>\n",
              "    <tr>\n",
              "      <th>8</th>\n",
              "      <td>1</td>\n",
              "      <td>shadow government getting too large to meet in...</td>\n",
              "      <td>https://politics.theonion.com/shadow-governmen...</td>\n",
              "    </tr>\n",
              "    <tr>\n",
              "      <th>9</th>\n",
              "      <td>0</td>\n",
              "      <td>lots of parents know this scenario</td>\n",
              "      <td>https://www.huffingtonpost.comhttp://pubx.co/6...</td>\n",
              "    </tr>\n",
              "  </tbody>\n",
              "</table>\n",
              "</div>"
            ],
            "text/plain": [
              "   is_sarcastic  ...                                       article_link\n",
              "0             1  ...  https://www.theonion.com/thirtysomething-scien...\n",
              "1             0  ...  https://www.huffingtonpost.com/entry/donna-edw...\n",
              "2             0  ...  https://www.huffingtonpost.com/entry/eat-your-...\n",
              "3             1  ...  https://local.theonion.com/inclement-weather-p...\n",
              "4             1  ...  https://www.theonion.com/mother-comes-pretty-c...\n",
              "5             0  ...  https://www.huffingtonpost.com/entry/my-white-...\n",
              "6             0  ...  https://www.huffingtonpost.com/entry/5-ways-to...\n",
              "7             1  ...  https://www.theonion.com/richard-bransons-glob...\n",
              "8             1  ...  https://politics.theonion.com/shadow-governmen...\n",
              "9             0  ...  https://www.huffingtonpost.comhttp://pubx.co/6...\n",
              "\n",
              "[10 rows x 3 columns]"
            ]
          },
          "metadata": {},
          "execution_count": 75
        }
      ]
    },
    {
      "cell_type": "markdown",
      "metadata": {
        "id": "CD6QZvpeJGFW"
      },
      "source": [
        "Get the headlines as a list of sentences"
      ]
    },
    {
      "cell_type": "code",
      "metadata": {
        "id": "0mQm2GYAWJn7"
      },
      "source": [
        "sentences = dataset['headline']\n",
        "sentences = sentences.tolist()\n",
        "# sentences"
      ],
      "execution_count": 76,
      "outputs": []
    },
    {
      "cell_type": "code",
      "metadata": {
        "id": "peiI9cUgI5ni"
      },
      "source": [
        "labels = dataset['is_sarcastic']\n",
        "labels = labels.tolist()"
      ],
      "execution_count": 77,
      "outputs": []
    },
    {
      "cell_type": "code",
      "metadata": {
        "id": "FU6bEEAKJlNd"
      },
      "source": [
        "urls = dataset['article_link']\n",
        "urls = urls.tolist()\n",
        "# urls"
      ],
      "execution_count": 78,
      "outputs": []
    },
    {
      "cell_type": "markdown",
      "metadata": {
        "id": "SwaoKQ2sJ6Am"
      },
      "source": [
        "#Splitting Train and Test sets"
      ]
    },
    {
      "cell_type": "markdown",
      "metadata": {
        "id": "OF0uU83XH5cA"
      },
      "source": [
        "Using 80% of the data to train the model"
      ]
    },
    {
      "cell_type": "code",
      "metadata": {
        "id": "Zt72PzqOJ0SK"
      },
      "source": [
        "X_train, X_test,y_train,y_test = train_test_split(sentences,labels,train_size = 0.8,random_state =42,shuffle=True)"
      ],
      "execution_count": 79,
      "outputs": []
    },
    {
      "cell_type": "code",
      "metadata": {
        "colab": {
          "base_uri": "https://localhost:8080/"
        },
        "id": "zZ92XlRsKVPs",
        "outputId": "245ec5cd-ca82-45fe-d225-b08f792ece78"
      },
      "source": [
        "dataset.shape"
      ],
      "execution_count": 80,
      "outputs": [
        {
          "output_type": "execute_result",
          "data": {
            "text/plain": [
              "(28619, 3)"
            ]
          },
          "metadata": {},
          "execution_count": 80
        }
      ]
    },
    {
      "cell_type": "code",
      "metadata": {
        "colab": {
          "base_uri": "https://localhost:8080/"
        },
        "id": "JFL8pLsJKaIt",
        "outputId": "ffea4069-3f25-4291-d36f-f190e2f3106e"
      },
      "source": [
        "print(len(X_train),len(X_test),len(y_test),len(y_test))"
      ],
      "execution_count": 81,
      "outputs": [
        {
          "output_type": "stream",
          "text": [
            "22895 5724 5724 5724\n"
          ],
          "name": "stdout"
        }
      ]
    },
    {
      "cell_type": "code",
      "metadata": {
        "id": "7YGiXPz3OZjo"
      },
      "source": [
        "vocab_size = 10000\n",
        "embedding_dim = 16\n",
        "max_length = 100\n",
        "training_size = 20000"
      ],
      "execution_count": 82,
      "outputs": []
    },
    {
      "cell_type": "markdown",
      "metadata": {
        "id": "NoJk1spIVk0n"
      },
      "source": [
        "Convert the individual words into numbers and replacing any of the unknown words with the out of vocabulary (oov) token."
      ]
    },
    {
      "cell_type": "code",
      "metadata": {
        "id": "dVEumW1BRGQo"
      },
      "source": [
        "tokenizer = Tokenizer(num_words=vocab_size,oov_token=\"oov\")\n",
        "tokenizer.fit_on_texts(X_train)\n",
        "word_index = tokenizer.word_index\n",
        "# word_index"
      ],
      "execution_count": 83,
      "outputs": []
    },
    {
      "cell_type": "code",
      "metadata": {
        "id": "YGMfGjY1RZ8o"
      },
      "source": [
        "training_sequences = tokenizer.texts_to_sequences(X_train)\n",
        "# training_sequences"
      ],
      "execution_count": null,
      "outputs": []
    },
    {
      "cell_type": "code",
      "metadata": {
        "id": "mSQ23U4gRzSN"
      },
      "source": [
        "training_padded = pad_sequences(training_sequences,maxlen=max_length,padding='post',truncating='post')"
      ],
      "execution_count": 85,
      "outputs": []
    },
    {
      "cell_type": "code",
      "metadata": {
        "id": "KALP4xbBSrBv"
      },
      "source": [
        "testing_sequences = tokenizer.texts_to_sequences(X_test)"
      ],
      "execution_count": 86,
      "outputs": []
    },
    {
      "cell_type": "code",
      "metadata": {
        "id": "DTlIRIc7S2mn"
      },
      "source": [
        "testing_padded = pad_sequences(testing_sequences,maxlen=max_length,padding='post',truncating='post')"
      ],
      "execution_count": 87,
      "outputs": []
    },
    {
      "cell_type": "code",
      "metadata": {
        "id": "HJ_TWWg-SAXH"
      },
      "source": [
        "training_padded = np.array(training_padded)\n",
        "training_labels = np.array(y_train)\n",
        "testing_padded = np.array(testing_padded)\n",
        "testing_labels = np.array(y_test)"
      ],
      "execution_count": 88,
      "outputs": []
    },
    {
      "cell_type": "code",
      "metadata": {
        "colab": {
          "base_uri": "https://localhost:8080/"
        },
        "id": "uIVIig46SZ9N",
        "outputId": "550d7e82-4e94-4c85-d938-b82a5129266b"
      },
      "source": [
        "print(training_padded.shape,training_labels.shape,testing_padded.shape,testing_labels.shape)\n",
        "testing_labels"
      ],
      "execution_count": 89,
      "outputs": [
        {
          "output_type": "stream",
          "text": [
            "(22895, 100) (22895,) (5724, 100) (5724,)\n"
          ],
          "name": "stdout"
        },
        {
          "output_type": "execute_result",
          "data": {
            "text/plain": [
              "array([0, 1, 1, ..., 0, 0, 1])"
            ]
          },
          "metadata": {},
          "execution_count": 89
        }
      ]
    },
    {
      "cell_type": "markdown",
      "metadata": {
        "id": "_OgsCiFHfpHF"
      },
      "source": [
        "#Creating and training a model"
      ]
    },
    {
      "cell_type": "code",
      "metadata": {
        "id": "QFyg5TYfTFu8"
      },
      "source": [
        "model = tf.keras.Sequential([Embedding(vocab_size,embedding_dim,input_length=max_length),\n",
        "                             GlobalAveragePooling1D(),\n",
        "                             Dense(24,activation='relu'),\n",
        "                             Dense(1,activation='sigmoid')\n",
        "                             ])"
      ],
      "execution_count": 90,
      "outputs": []
    },
    {
      "cell_type": "code",
      "metadata": {
        "colab": {
          "base_uri": "https://localhost:8080/"
        },
        "id": "xj7U4T2JRiGN",
        "outputId": "398a4133-0948-49dd-d03d-10f046670775"
      },
      "source": [
        "print(model.summary())"
      ],
      "execution_count": 91,
      "outputs": [
        {
          "output_type": "stream",
          "text": [
            "Model: \"sequential_3\"\n",
            "_________________________________________________________________\n",
            "Layer (type)                 Output Shape              Param #   \n",
            "=================================================================\n",
            "embedding_3 (Embedding)      (None, 100, 16)           160000    \n",
            "_________________________________________________________________\n",
            "global_average_pooling1d_3 ( (None, 16)                0         \n",
            "_________________________________________________________________\n",
            "dense_6 (Dense)              (None, 24)                408       \n",
            "_________________________________________________________________\n",
            "dense_7 (Dense)              (None, 1)                 25        \n",
            "=================================================================\n",
            "Total params: 160,433\n",
            "Trainable params: 160,433\n",
            "Non-trainable params: 0\n",
            "_________________________________________________________________\n",
            "None\n"
          ],
          "name": "stdout"
        }
      ]
    },
    {
      "cell_type": "markdown",
      "metadata": {
        "id": "gm56YV-OmZWp"
      },
      "source": [
        "We are tracking the accuracy in order to know the number of correct predictions out of the total number of predictions made."
      ]
    },
    {
      "cell_type": "code",
      "metadata": {
        "colab": {
          "base_uri": "https://localhost:8080/"
        },
        "id": "9i9svA1mUu6X",
        "outputId": "cefc35d2-26fd-49db-b466-e86ddf1d8853"
      },
      "source": [
        "model.compile(loss='binary_crossentropy',optimizer='adam',metrics=['accuracy'])\n",
        "# es = EarlyStopping(monitor='val_loss',mode='min',verbose=1,patience=3)\n",
        "# mc = ModelCheckpoint('best_model.h5',monitor='accuracy',mode='max',save_best_only=True,verbose=1)\n",
        "history = model.fit(training_padded,training_labels,epochs=30,validation_data=(testing_padded,testing_labels),verbose=2)"
      ],
      "execution_count": 92,
      "outputs": [
        {
          "output_type": "stream",
          "text": [
            "Epoch 1/30\n",
            "716/716 - 3s - loss: 0.6305 - accuracy: 0.6752 - val_loss: 0.4783 - val_accuracy: 0.8047\n",
            "Epoch 2/30\n",
            "716/716 - 2s - loss: 0.3816 - accuracy: 0.8457 - val_loss: 0.3977 - val_accuracy: 0.8131\n",
            "Epoch 3/30\n",
            "716/716 - 2s - loss: 0.2967 - accuracy: 0.8817 - val_loss: 0.3409 - val_accuracy: 0.8489\n",
            "Epoch 4/30\n",
            "716/716 - 2s - loss: 0.2512 - accuracy: 0.9017 - val_loss: 0.3333 - val_accuracy: 0.8526\n",
            "Epoch 5/30\n",
            "716/716 - 2s - loss: 0.2195 - accuracy: 0.9149 - val_loss: 0.3807 - val_accuracy: 0.8339\n",
            "Epoch 6/30\n",
            "716/716 - 2s - loss: 0.1966 - accuracy: 0.9244 - val_loss: 0.3425 - val_accuracy: 0.8534\n",
            "Epoch 7/30\n",
            "716/716 - 2s - loss: 0.1756 - accuracy: 0.9335 - val_loss: 0.3740 - val_accuracy: 0.8442\n",
            "Epoch 8/30\n",
            "716/716 - 2s - loss: 0.1598 - accuracy: 0.9411 - val_loss: 0.3632 - val_accuracy: 0.8527\n",
            "Epoch 9/30\n",
            "716/716 - 2s - loss: 0.1468 - accuracy: 0.9470 - val_loss: 0.3922 - val_accuracy: 0.8454\n",
            "Epoch 10/30\n",
            "716/716 - 2s - loss: 0.1343 - accuracy: 0.9514 - val_loss: 0.4005 - val_accuracy: 0.8506\n",
            "Epoch 11/30\n",
            "716/716 - 2s - loss: 0.1239 - accuracy: 0.9558 - val_loss: 0.4259 - val_accuracy: 0.8426\n",
            "Epoch 12/30\n",
            "716/716 - 2s - loss: 0.1143 - accuracy: 0.9597 - val_loss: 0.4445 - val_accuracy: 0.8466\n",
            "Epoch 13/30\n",
            "716/716 - 2s - loss: 0.1071 - accuracy: 0.9624 - val_loss: 0.4711 - val_accuracy: 0.8398\n",
            "Epoch 14/30\n",
            "716/716 - 2s - loss: 0.0987 - accuracy: 0.9658 - val_loss: 0.4961 - val_accuracy: 0.8398\n",
            "Epoch 15/30\n",
            "716/716 - 2s - loss: 0.0930 - accuracy: 0.9679 - val_loss: 0.5268 - val_accuracy: 0.8360\n",
            "Epoch 16/30\n",
            "716/716 - 2s - loss: 0.0855 - accuracy: 0.9706 - val_loss: 0.5607 - val_accuracy: 0.8333\n",
            "Epoch 17/30\n",
            "716/716 - 2s - loss: 0.0808 - accuracy: 0.9731 - val_loss: 0.5816 - val_accuracy: 0.8342\n",
            "Epoch 18/30\n",
            "716/716 - 2s - loss: 0.0763 - accuracy: 0.9745 - val_loss: 0.6103 - val_accuracy: 0.8323\n",
            "Epoch 19/30\n",
            "716/716 - 2s - loss: 0.0708 - accuracy: 0.9780 - val_loss: 0.6366 - val_accuracy: 0.8304\n",
            "Epoch 20/30\n",
            "716/716 - 2s - loss: 0.0675 - accuracy: 0.9779 - val_loss: 0.6756 - val_accuracy: 0.8286\n",
            "Epoch 21/30\n",
            "716/716 - 2s - loss: 0.0626 - accuracy: 0.9798 - val_loss: 0.7023 - val_accuracy: 0.8284\n",
            "Epoch 22/30\n",
            "716/716 - 2s - loss: 0.0599 - accuracy: 0.9811 - val_loss: 0.7335 - val_accuracy: 0.8262\n",
            "Epoch 23/30\n",
            "716/716 - 2s - loss: 0.0582 - accuracy: 0.9801 - val_loss: 0.7621 - val_accuracy: 0.8248\n",
            "Epoch 24/30\n",
            "716/716 - 2s - loss: 0.0511 - accuracy: 0.9846 - val_loss: 0.7982 - val_accuracy: 0.8230\n",
            "Epoch 25/30\n",
            "716/716 - 2s - loss: 0.0488 - accuracy: 0.9855 - val_loss: 0.8444 - val_accuracy: 0.8218\n",
            "Epoch 26/30\n",
            "716/716 - 2s - loss: 0.0460 - accuracy: 0.9858 - val_loss: 0.8648 - val_accuracy: 0.8208\n",
            "Epoch 27/30\n",
            "716/716 - 2s - loss: 0.0426 - accuracy: 0.9872 - val_loss: 0.8983 - val_accuracy: 0.8202\n",
            "Epoch 28/30\n",
            "716/716 - 2s - loss: 0.0422 - accuracy: 0.9866 - val_loss: 0.9321 - val_accuracy: 0.8183\n",
            "Epoch 29/30\n",
            "716/716 - 2s - loss: 0.0390 - accuracy: 0.9879 - val_loss: 0.9610 - val_accuracy: 0.8171\n",
            "Epoch 30/30\n",
            "716/716 - 2s - loss: 0.0367 - accuracy: 0.9890 - val_loss: 0.9941 - val_accuracy: 0.8173\n"
          ],
          "name": "stdout"
        }
      ]
    },
    {
      "cell_type": "code",
      "metadata": {
        "id": "tWkiuqnvVukj"
      },
      "source": [
        "def plotGraphs(history,string):\n",
        "  plt.plot(history.history[string])\n",
        "  plt.plot(history.history['val_'+string])\n",
        "  plt.xlabel(\"Epochs\")\n",
        "  plt.ylabel(string)\n",
        "  plt.legend([string,'val_'+string])\n",
        "  plt.show()\n",
        "  "
      ],
      "execution_count": 93,
      "outputs": []
    },
    {
      "cell_type": "code",
      "metadata": {
        "colab": {
          "base_uri": "https://localhost:8080/",
          "height": 280
        },
        "id": "6FGt3JTHXOBl",
        "outputId": "861fca8e-6e93-43bd-a37c-e8251fad871f"
      },
      "source": [
        "plotGraphs(history,\"accuracy\")"
      ],
      "execution_count": 94,
      "outputs": [
        {
          "output_type": "display_data",
          "data": {
            "image/png": "[encoded data removed]",
            "text/plain": [
              "<Figure size 432x288 with 1 Axes>"
            ]
          },
          "metadata": {
            "needs_background": "light"
          }
        }
      ]
    },
    {
      "cell_type": "code",
      "metadata": {
        "colab": {
          "base_uri": "https://localhost:8080/",
          "height": 279
        },
        "id": "0KbGnaZyXSNU",
        "outputId": "ccf99815-c8f6-4328-f242-669a1bf6c76d"
      },
      "source": [
        "plotGraphs(history,\"loss\")"
      ],
      "execution_count": 95,
      "outputs": [
        {
          "output_type": "display_data",
          "data": {
            "image/png": "[encoded data removed]",
            "text/plain": [
              "<Figure size 432x288 with 1 Axes>"
            ]
          },
          "metadata": {
            "needs_background": "light"
          }
        }
      ]
    }
  ]
}